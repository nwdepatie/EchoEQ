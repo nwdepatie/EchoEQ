{
 "cells": [
  {
   "cell_type": "code",
   "execution_count": null,
   "id": "0343fff6",
   "metadata": {},
   "outputs": [],
   "source": [
    "from biquad import BiquadFilter\n",
    "from plot import plot_signals\n",
    "import numpy as np\n",
    "import scipy.io.wavfile as wav\n",
    "import time"
   ]
  },
  {
   "cell_type": "code",
   "execution_count": null,
   "id": "0c6bf97c",
   "metadata": {},
   "outputs": [],
   "source": [
    "def apply_biquad_filter(wav):\n",
    "    # Initialize the filter\n",
    "    # TODO: Dynamically compute coefficients\n",
    "    b0, b1, b2, a1, a2 = 0.5, 0.5, 0.5, -0.5, 0.5\n",
    "    filter = BiquadFilter(b0, b1, b2, a1, a2)\n",
    "\n",
    "    # Process the data through the filter\n",
    "    return np.array([filter.process_sample(x) for x in wav])"
   ]
  },
  {
   "cell_type": "code",
   "execution_count": null,
   "id": "3f6dc13e",
   "metadata": {},
   "outputs": [],
   "source": [
    "def remove_offset(wav):\n",
    "    # Convert data to float, normalize, and remove DC offset\n",
    "    if wav.ndim > 1:  # if stereo, take only the first channel\n",
    "        wav = wav[:, 0]\n",
    "    wav = wav.astype(np.float32)\n",
    "    wav -= np.mean(wav)  # Removing DC offset by subtracting the mean\n",
    "    return wav"
   ]
  },
  {
   "cell_type": "code",
   "execution_count": null,
   "id": "519b965f",
   "metadata": {},
   "outputs": [],
   "source": [
    "def output_wav(filtered_data, output_filename, sample_rate):\n",
    "    filtered_data_int16 = np.int16(filtered_data / np.max(np.abs(filtered_data)) * 32767)\n",
    "\n",
    "    # Write the filtered signal to a new WAV file\n",
    "    wav.write(output_filename, sample_rate, filtered_data_int16)\n",
    "\n",
    "    print(f\"Filtered signal written to {output_filename}\")"
   ]
  },
  {
   "cell_type": "code",
   "execution_count": null,
   "id": "4cf7b1ae",
   "metadata": {},
   "outputs": [],
   "source": [
    "input_filename = 'hal_9000.wav'\n",
    "output_filename = 'output_filtered.wav'\n",
    "\n",
    "# Read the WAV file\n",
    "sample_rate, data = wav.read(input_filename)\n",
    "\n",
    "data = remove_offset(data)\n",
    "\n",
    "# Apply the filter to the input file\n",
    "start = time.time()\n",
    "filtered_data = apply_biquad_filter(data)\n",
    "end = time.time()\n",
    "\n",
    "print(f'Elapsed Time:\\t{end-start}')\n",
    "\n",
    "output_wav(filtered_data, output_filename, sample_rate)\n",
    "\n",
    "plot_signals(data, filtered_data, sample_rate)"
   ]
  },
  {
   "cell_type": "markdown",
   "id": "38d40cb3",
   "metadata": {},
   "source": [
    "# Initial Results\n",
    "![zynqtest1](./zynqtest1.png)"
   ]
  }
 ],
 "metadata": {
  "kernelspec": {
   "display_name": "Python 3 (ipykernel)",
   "language": "python",
   "name": "python3"
  },
  "language_info": {
   "codemirror_mode": {
    "name": "ipython",
    "version": 3
   },
   "file_extension": ".py",
   "mimetype": "text/x-python",
   "name": "python",
   "nbconvert_exporter": "python",
   "pygments_lexer": "ipython3",
   "version": "3.10.4"
  }
 },
 "nbformat": 4,
 "nbformat_minor": 5
}
