{
 "cells": [
  {
   "cell_type": "code",
   "execution_count": null,
   "metadata": {},
   "outputs": [],
   "source": [
    "from biquad import BiquadFilter\n",
    "from plot import plot_signals\n",
    "import numpy as np\n",
    "import scipy.io.wavfile as wav\n",
    "import time\n",
    "import cmath as math\n",
    "from pynq import allocate"
   ]
  },
  {
   "cell_type": "markdown",
   "metadata": {},
   "source": [
    "# First, test software implementation"
   ]
  },
  {
   "cell_type": "code",
   "execution_count": null,
   "metadata": {},
   "outputs": [],
   "source": [
    "def apply_biquad_filter(wav, sampling_rate):\n",
    "    # Initialize the filter\n",
    "    center_freq = 1000\n",
    "    A = 2\n",
    "    Q = 0.5\n",
    "\n",
    "    W0 = (2*3.14 * center_freq) / sampling_rate\n",
    "    S  = math.sin(W0)\n",
    "    alpha = S / (2*Q)\n",
    "\n",
    "    b0 =  1 - alpha*A\n",
    "    b1 = -2 * math.cos(W0)\n",
    "    b2 =  1 - alpha*A\n",
    "    a0 =  1 + alpha/A\n",
    "    a1 = -2 * math.cos(W0)\n",
    "    a2 =  1 - alpha/A\n",
    "\n",
    "    b0 /= a0\n",
    "    b1 /= a0\n",
    "    b2 /= a0\n",
    "    a1 /= a0\n",
    "    a2 /= a0\n",
    "\n",
    "    print(f\"{b0} {b1} {b2} {a0} {a1} {a2}\")\n",
    "\n",
    "    #b0, b1, b2, a1, a2 = 0.2, 2, 0.5, -0.2, 0.5\n",
    "    filter = BiquadFilter(b0, b1, b2, a1, a2)\n",
    "\n",
    "    # Process the data through the filter\n",
    "    return np.array([filter.process_sample(x) for x in wav])"
   ]
  },
  {
   "cell_type": "code",
   "execution_count": null,
   "metadata": {},
   "outputs": [],
   "source": [
    "def remove_offset(wav):\n",
    "    # Convert data to float, normalize, and remove DC offset\n",
    "    if wav.ndim > 1:  # if stereo, take only the first channel\n",
    "        wav = wav[:, 0]\n",
    "    wav = wav.astype(np.float32)\n",
    "    wav -= np.mean(wav)  # Removing DC offset by subtracting the mean\n",
    "    return wav"
   ]
  },
  {
   "cell_type": "code",
   "execution_count": null,
   "metadata": {},
   "outputs": [],
   "source": [
    "def output_wav(filtered_data, output_filename, sample_rate):\n",
    "    filtered_data_int16 = np.int16(filtered_data / np.max(np.abs(filtered_data)) * 32767)\n",
    "\n",
    "    # Write the filtered signal to a new WAV file\n",
    "    wav.write(output_filename, sample_rate, filtered_data_int16)\n",
    "\n",
    "    print(f\"Filtered signal written to {output_filename}\")"
   ]
  },
  {
   "cell_type": "code",
   "execution_count": null,
   "metadata": {},
   "outputs": [],
   "source": [
    "input_filename = 'hal_9000.wav'\n",
    "output_filename = 'output_filtered.wav'\n",
    "\n",
    "# Read the WAV file\n",
    "sample_rate, data = wav.read(input_filename)\n",
    "\n",
    "data = remove_offset(data)"
   ]
  },
  {
   "cell_type": "code",
   "execution_count": null,
   "metadata": {},
   "outputs": [],
   "source": [
    "\n",
    "# Apply the filter to the input file\n",
    "start = time.time()\n",
    "filtered_data = apply_biquad_filter(data, sample_rate)\n",
    "end = time.time()\n",
    "\n",
    "print(f'Elapsed Time:\\t{end-start}')\n",
    "\n",
    "output_wav(filtered_data, output_filename, sample_rate)\n",
    "\n",
    "plot_signals(data, filtered_data, sample_rate)\n",
    "\n"
   ]
  },
  {
   "cell_type": "markdown",
   "metadata": {},
   "source": [
    "# Next, test hardware implementation"
   ]
  },
  {
   "cell_type": "code",
   "execution_count": null,
   "metadata": {},
   "outputs": [],
   "source": [
    "from pynq import Overlay\n",
    "\n",
    "biquad_overlay = Overlay('/home/xilinx/overlays/echoeqv2/echoeq.bit')\n",
    "biquad_overlay?"
   ]
  },
  {
   "cell_type": "code",
   "execution_count": null,
   "metadata": {},
   "outputs": [],
   "source": [
    "# Resize data to play nice with dma buffer sizes\n",
    "SIZE_OF_BUFFER = 500\n",
    "\n",
    "current_length = data.size\n",
    "# Calculate the remainder when the current length is divided by the buffer size\n",
    "remainder = current_length % SIZE_OF_BUFFER\n",
    "# If remainder is not zero, calculate the size needed to make length divisible by buffer size\n",
    "if remainder != 0:\n",
    "    new_length = current_length + (SIZE_OF_BUFFER - remainder)\n",
    "else:\n",
    "    new_length = current_length  # No resizing needed if already divisible\n",
    "\n",
    "# Create a new array with the new length, filled with zeros\n",
    "new_arr = np.zeros(new_length, dtype=data.dtype)\n",
    "# Copy the original data to the new array\n",
    "new_arr[:current_length] = data\n",
    "\n",
    "data = new_arr"
   ]
  },
  {
   "cell_type": "code",
   "execution_count": null,
   "metadata": {},
   "outputs": [],
   "source": [
    "\n",
    "dma = biquad_overlay.axi_dma_0\n",
    "input_buffer = allocate(shape=(SIZE_OF_BUFFER,), dtype=np.int32)\n",
    "output_buffer = allocate(shape=(SIZE_OF_BUFFER,), dtype=np.int32)\n",
    "\n",
    "filtered_data = np.zeros(len(data))"
   ]
  },
  {
   "cell_type": "code",
   "execution_count": null,
   "metadata": {},
   "outputs": [],
   "source": [
    "i = 0\n",
    "\n",
    "start = time.time()\n",
    "\n",
    "for i in range(len(data) / SIZE_OF_BUFFER):\n",
    "        starting_idx = (i * SIZE_OF_BUFFER)\n",
    "        input_buffer[:] = data[starting_idx:starting_idx + SIZE_OF_BUFFER]\n",
    "        dma.sendchannel.transfer(input_buffer)\n",
    "        dma.recvchannel.transfer(output_buffer)\n",
    "        dma.sendchannel.wait()\n",
    "        dma.recvchannel.wait()\n",
    "        filtered_data[starting_idx:starting_idx + SIZE_OF_BUFFER] = output_buffer[:]\n",
    "        i += SIZE_OF_BUFFER\n",
    "end = time.time()\n",
    "\n",
    "print(f'Elapsed Time:\\t{end-start}')\n",
    "\n",
    "output_wav(filtered_data, output_filename, sample_rate)\n",
    "\n",
    "plot_signals(data, filtered_data, sample_rate)"
   ]
  }
 ],
 "metadata": {
  "language_info": {
   "name": "python"
  }
 },
 "nbformat": 4,
 "nbformat_minor": 2
}
